{
 "cells": [
  {
   "cell_type": "markdown",
   "metadata": {},
   "source": [
    "### Silly Number Guessing Robot\n",
    "https://stackoverflow.com/questions/17877870/guess-the-number-game-optimization-user-creates-number-computer-guesses"
   ]
  },
  {
   "cell_type": "code",
   "execution_count": null,
   "metadata": {},
   "outputs": [],
   "source": [
    "from random import randint\n",
    "\n",
    "print(\"Hello, Let me guess your number!\")\n",
    "print(\"Input a number that is not more than 5 digits\")\n",
    "\n",
    "def com_guess(num):\n",
    "    low = 1\n",
    "    high = 99999\n",
    "    guess = randint(1,99999)\n",
    "    while guess != num:\n",
    "        print(\"I guess it's: \", guess)\n",
    "        print(\"Is your number lesser or equal to this? (Y/N)\")\n",
    "        logic = input()\n",
    "        if logic == 'N':\n",
    "            low = guess + 1\n",
    "        elif logic == 'Y':\n",
    "            high = guess\n",
    "        guess = (low+high)//2\n",
    "    \n",
    "    print(\"I guess \", guess, \" and it's correct!\")\n",
    "\n",
    "def main():\n",
    "    num = int(input(\"Enter nunber: \"))\n",
    "    if num < 1 or num > 99999:\n",
    "        print(\"Number must be in range [1,99999]\")\n",
    "    else: com_guess(num)\n",
    "    \n",
    "if __name__ == '__main__':\n",
    "    main()"
   ]
  },
  {
   "cell_type": "code",
   "execution_count": 2,
   "metadata": {},
   "outputs": [
    {
     "name": "stdout",
     "output_type": "stream",
     "text": [
      "['1', '2', '3', '4', '5']\n"
     ]
    }
   ],
   "source": [
    "number = 12345\n",
    "num_mat = []\n",
    "for digits in str(number):\n",
    "    num_mat.append(digits)\n",
    "print(num_mat)"
   ]
  },
  {
   "cell_type": "code",
   "execution_count": null,
   "metadata": {},
   "outputs": [],
   "source": [
    "def sum_half(a, b):\n",
    "    c = (a+b)//2\n",
    "    return c\n",
    "    \n",
    "def digit_guess(num):\n",
    "    num_mat = []\n",
    "    num_mat_guess = []\n",
    "    for digits in str(num):\n",
    "        num_mat.append(digits)\n",
    "    print(\"Checking the \", num_mat[n], \" digit\")\n",
    "    \n",
    "    low_bound = 0\n",
    "    up_bound = 0\n",
    "    \n",
    "    for n in range(1,5):\n",
    "        print(\"Is it equal to 5? (Y/N)\")\n",
    "        log_0 = input()\n",
    "        if log_0 == \"Y\":\n",
    "            num_mat_guess.append(\"5\")\n",
    "            continue\n",
    "        elif log_0 == \"N\":\n",
    "            print(\"Is it less than to 5? (Y/N)\")\n",
    "            log_1 = input()\n",
    "            if log_1 == \"Y\":\n",
    "                low_bound = 0\n",
    "                up_bound = 5\n",
    "                foo = sum_half(low_bound, up_bound)\n",
    "                print(\"Is it less than \", foo, \"? (Y/N)\") # 2\n",
    "                log_2 = input()\n",
    "\n",
    "            elif log_1 == \"N\":\n",
    "                low_bound = 5\n",
    "\n",
    "def main():\n",
    "    num = int(input(\"Enter number that's not more than 5 digits: \"))\n",
    "    if num < 0 or num > 99999:\n",
    "        print(\"Number must be in range [0,99999]\")\n",
    "    else: digit_guess(num)\n",
    "\n",
    "if __name__ == '__main__':\n",
    "    main()"
   ]
  },
  {
   "cell_type": "code",
   "execution_count": 3,
   "metadata": {},
   "outputs": [
    {
     "name": "stdout",
     "output_type": "stream",
     "text": [
      "1\n"
     ]
    }
   ],
   "source": [
    "c = (2+1)//2\n",
    "print(c)"
   ]
  },
  {
   "cell_type": "code",
   "execution_count": 3,
   "metadata": {},
   "outputs": [
    {
     "name": "stdout",
     "output_type": "stream",
     "text": [
      "Please select 1 number from 0 to 99: 40\n",
      "Is 58 more than your solution? yes\n",
      "51\n",
      "Is 51 more than your solution? yes\n",
      "44\n",
      "Is 44 more than your solution? yes\n",
      "37\n",
      "Is 37 more than your solution? no\n",
      "40\n",
      "Is 40 more than your solution? no\n",
      "Your solution is  40\n"
     ]
    }
   ],
   "source": [
    "from random import randint\n",
    "\n",
    "global flag\n",
    "stepsize = 7\n",
    "solution = input(\"Please select 1 number from 0 to 99: \")\n",
    "solution = int(solution)\n",
    "flag = \"\"\n",
    "current = randint(0,99)\n",
    "\n",
    "answer = input(\"Is \" + str(current) + \" more than your solution? \")\n",
    "while current != solution:\n",
    "    if current == solution:\n",
    "        break\n",
    "    if answer == 'yes':\n",
    "        if flag == 'increase':\n",
    "            stepsize = stepsize//2\n",
    "        current -= stepsize\n",
    "        flag = 'decrease'\n",
    "    elif answer == 'no': \n",
    "        if flag == 'decrease':\n",
    "            stepsize = stepsize//2\n",
    "        current += stepsize\n",
    "        flag = 'increase'\n",
    "    print(current)\n",
    "    answer = input(\"Is \" + str(current) + \" more than your solution? \")\n",
    "print(\"Your solution is \", current)"
   ]
  },
  {
   "cell_type": "code",
   "execution_count": null,
   "metadata": {},
   "outputs": [],
   "source": []
  }
 ],
 "metadata": {
  "kernelspec": {
   "display_name": "Python 3",
   "language": "python",
   "name": "python3"
  },
  "language_info": {
   "codemirror_mode": {
    "name": "ipython",
    "version": 3
   },
   "file_extension": ".py",
   "mimetype": "text/x-python",
   "name": "python",
   "nbconvert_exporter": "python",
   "pygments_lexer": "ipython3",
   "version": "3.7.4"
  }
 },
 "nbformat": 4,
 "nbformat_minor": 2
}
